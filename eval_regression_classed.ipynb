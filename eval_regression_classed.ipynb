{
 "metadata": {
  "language_info": {
   "codemirror_mode": {
    "name": "ipython",
    "version": 3
   },
   "file_extension": ".py",
   "mimetype": "text/x-python",
   "name": "python",
   "nbconvert_exporter": "python",
   "pygments_lexer": "ipython3",
   "version": "3.7.2-final"
  },
  "orig_nbformat": 2,
  "kernelspec": {
   "name": "python_defaultSpec_1600077172688",
   "display_name": "Python 3.6.9 64-bit"
  }
 },
 "nbformat": 4,
 "nbformat_minor": 2,
 "cells": [
  {
   "cell_type": "markdown",
   "metadata": {},
   "source": [
    "# Evaluation of A **Regression** Model with Seperate Classes\n",
    "\n",
    "This notebook is intended to be used for evaluation of a trained regression model over test dataset. It is the upper version of the regression model which evaluates regression of each classes seperatelly. Please change the config dictionary in the begening so that you can evaluate your desired model/sample etc..."
   ]
  },
  {
   "cell_type": "code",
   "execution_count": null,
   "metadata": {},
   "outputs": [],
   "source": [
    "#configure your evalutaion parameters here\n",
    "_config = {\n",
    "    'batch_size':1,\n",
    "    'input_shape_height' : 375,\n",
    "    'input_shape_width' : 262,\n",
    "    'model_filename' : 'output/resnet_regrerssion_classed/resnet_v1.h5',\n",
    "    'test_sample_filename' : 'data/test/00000000a9764df2_20191005_085442_4.png'\n",
    "}"
   ]
  },
  {
   "cell_type": "code",
   "execution_count": null,
   "metadata": {},
   "outputs": [],
   "source": [
    "#If you want to disable GPU uncomment here\n",
    "#import os \n",
    "#os.environ['CUDA_VISIBLE_DEVICES'] = '-1'"
   ]
  },
  {
   "cell_type": "code",
   "execution_count": null,
   "metadata": {
    "tags": []
   },
   "outputs": [],
   "source": [
    "from keras.models import load_model\n",
    "from keras.preprocessing.image import ImageDataGenerator\n",
    "from keras.preprocessing import image\n",
    "import pandas as pd\n",
    "import numpy as np\n",
    "import tensorflow as tf\n",
    "import matplotlib.pyplot as plt\n",
    "from keras.applications.resnet_v2 import preprocess_input\n",
    "\n",
    "physical_devices = tf.config.experimental.list_physical_devices('GPU')\n",
    "if len(physical_devices) > 0:\n",
    "    _ = tf.config.experimental.set_memory_growth(physical_devices[0], True)\n",
    "\n",
    "df_train =  pd.read_csv('data/train_labels.csv')\n",
    "df_test =  pd.read_csv('data/test_labels.csv')\n",
    "\n",
    "from helpers.decouple import decouple\n",
    "matrix_test,classes_test = decouple(df_test)\n",
    "from helpers.matrix_to_df import matrix_to_dfclassed\n",
    "df_test_agg = matrix_to_dfclassed(matrix_test,classes_test)\n",
    "\n",
    "test_datagen = ImageDataGenerator(preprocessing_function=preprocess_input)\n",
    "\n",
    "test_generator = test_datagen.flow_from_dataframe(\n",
    "        dataframe=df_test_agg,\n",
    "        directory='data/test',\n",
    "        x_col='filename',\n",
    "        y_col=list(classes_test.keys()),\n",
    "        target_size=(_config['input_shape_height'], _config['input_shape_width']),\n",
    "        batch_size=_config['batch_size'],\n",
    "        class_mode='raw')\n",
    "\n",
    "model = load_model(_config['model_filename'],compile=False)\n",
    "model.compile(optimizer='adam', loss='mean_squared_error', metrics=['accuracy'])"
   ]
  },
  {
   "cell_type": "code",
   "execution_count": null,
   "metadata": {},
   "outputs": [],
   "source": [
    "model.metrics_names"
   ]
  },
  {
   "cell_type": "code",
   "execution_count": null,
   "metadata": {},
   "outputs": [],
   "source": [
    "model.evaluate_generator(test_generator)"
   ]
  }
 ]
}